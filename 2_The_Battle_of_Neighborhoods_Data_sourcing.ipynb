{
 "cells": [
  {
   "cell_type": "markdown",
   "metadata": {},
   "source": [
    "# Data Sourcing:\n",
    "## For this project we need the following data:\n",
    "\n",
    "### Data source : https://public.opendatasoft.com/explore/dataset/us-zip-code-latitude-and-longitude/export/?refine.state=MA\n",
    "### Description : Massachusetts data with list of Neighborhoods along with their latitude and longitude.\n",
    "\n",
    "## Indian restaurants in each neighbourhood of Massachusetts:\n",
    "\n",
    "### Data source : Foursquare API\n",
    "### Description : By using this API we will get all the venues in each neighbourhood. We can filter these venues to get only Indian restaurants.\n"
   ]
  },
  {
   "cell_type": "markdown",
   "metadata": {},
   "source": []
  }
 ],
 "metadata": {
  "kernelspec": {
   "display_name": "Python",
   "language": "python",
   "name": "conda-env-python-py"
  },
  "language_info": {
   "codemirror_mode": {
    "name": "ipython",
    "version": 3
   },
   "file_extension": ".py",
   "mimetype": "text/x-python",
   "name": "python",
   "nbconvert_exporter": "python",
   "pygments_lexer": "ipython3",
   "version": "3.6.10"
  }
 },
 "nbformat": 4,
 "nbformat_minor": 4
}
