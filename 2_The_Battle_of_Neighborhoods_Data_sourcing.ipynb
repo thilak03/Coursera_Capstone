{
 "cells": [
  {
   "cell_type": "markdown",
   "metadata": {},
   "source": [
    "# Data Sourcing:\n",
    "## For this project I would need list of Neighborhoods in Massachusetts along with their latitude and longitude.\n",
    "## I would take above mentioned data from : https://public.opendatasoft.com/explore/dataset/us-zip-code-latitude-and-longitude/export/?refine.state=MA\n",
    "## It would consist of Zip code, Neighborhood name, Latitude and Longitude\n",
    "### Example:\n",
    "Zip\tCity\tLatitude\tLongitude\n",
    "1720\tActon\t42.477142\t-71.4422\n",
    "\n",
    "## I would need to find the Indian restaurants in each neighbourhood of Massachusetts based on above data. For that I would be using Foursquare API. \n",
    "### By using this API I will get all the venues in each neighbourhood. I can then filter these venues to get only Indian restaurants."
   ]
  },
  {
   "cell_type": "markdown",
   "metadata": {},
   "source": []
  }
 ],
 "metadata": {
  "kernelspec": {
   "display_name": "Python",
   "language": "python",
   "name": "conda-env-python-py"
  },
  "language_info": {
   "codemirror_mode": {
    "name": "ipython",
    "version": 3
   },
   "file_extension": ".py",
   "mimetype": "text/x-python",
   "name": "python",
   "nbconvert_exporter": "python",
   "pygments_lexer": "ipython3",
   "version": "3.6.10"
  }
 },
 "nbformat": 4,
 "nbformat_minor": 4
}
