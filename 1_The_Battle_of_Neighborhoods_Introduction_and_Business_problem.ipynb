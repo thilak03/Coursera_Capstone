{
 "cells": [
  {
   "cell_type": "markdown",
   "metadata": {},
   "source": [
    "# The battle of neighborhoods - Indian Cuisine Recommender Model - For Massachusetts , USA\n",
    "\n",
    "# Introduction:\n",
    "\n",
    "## Massachusetts with its diverse culture comes with diverse cuisines like Indian, Chinese, Mediterranean, Mexican etc.\n",
    "## We wanted to do some detailed exploratory data analysis of all the neighbourhoods in Massachusetts and find answers to below questions.  \n",
    "\n",
    "# Problem statement :\n",
    "## Find answers to following questions: \n",
    "## 1. What are best location in Massachusetts for Indian Cuisine?\n",
    "## 2. Which areas have most Indian Restaurants ?\n",
    "## 3. Which all areas lack Indian Restaurants but potential to improve?\n",
    "## 4. Which is the biggest chain of Indian restaurants in Massachusetts?\n",
    "\n",
    "# Target Audience :\n",
    "\n",
    "## Anyone who wish to find an Indian Restaurant for a weekend lunch or buffet\n",
    "\n",
    "# Why it is important :\n",
    "\n",
    "## Massachusetts is a metropoliton city with many immigrants from various countries who have different food tastes and styles. This system can also be used to find not only Indian Restaurant but also other types of restaurants."
   ]
  },
  {
   "cell_type": "code",
   "execution_count": null,
   "metadata": {},
   "outputs": [],
   "source": []
  }
 ],
 "metadata": {
  "kernelspec": {
   "display_name": "Python",
   "language": "python",
   "name": "conda-env-python-py"
  },
  "language_info": {
   "codemirror_mode": {
    "name": "ipython",
    "version": 3
   },
   "file_extension": ".py",
   "mimetype": "text/x-python",
   "name": "python",
   "nbconvert_exporter": "python",
   "pygments_lexer": "ipython3",
   "version": "3.6.10"
  }
 },
 "nbformat": 4,
 "nbformat_minor": 4
}
