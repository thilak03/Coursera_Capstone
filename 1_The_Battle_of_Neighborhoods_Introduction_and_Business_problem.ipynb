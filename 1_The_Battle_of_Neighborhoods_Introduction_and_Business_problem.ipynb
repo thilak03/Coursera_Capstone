{
 "cells": [
  {
   "cell_type": "markdown",
   "metadata": {},
   "source": [
    "# The battle of neighborhoods - Indian Cuisine Recommender Model - For Massachusetts , USA\n",
    "\n",
    "## Introduction:\n",
    "Massachusetts with its diverse culture comes with diverse cuisines like Indian, Chinese, Mediterranean, Mexican etc.\n",
    "We wanted to do some detailed exploratory data analysis of all the neighbourhoods in Massachusetts and find answers to below questions.  \n",
    "\n",
    "## Problem statement :\n",
    "### Find answers to following questions: \n",
    "1. What are best location in Massachusetts for Indian Cuisine?\n",
    "2. Which areas have most Indian Restaurants ?\n",
    "3. Which all areas lack Indian Restaurants but potential to improve?\n",
    "4. Which is the biggest chain of Indian restaurants in Massachusetts?\n"
   ]
  },
  {
   "cell_type": "code",
   "execution_count": null,
   "metadata": {},
   "outputs": [],
   "source": []
  }
 ],
 "metadata": {
  "kernelspec": {
   "display_name": "Python",
   "language": "python",
   "name": "conda-env-python-py"
  },
  "language_info": {
   "codemirror_mode": {
    "name": "ipython",
    "version": 3
   },
   "file_extension": ".py",
   "mimetype": "text/x-python",
   "name": "python",
   "nbconvert_exporter": "python",
   "pygments_lexer": "ipython3",
   "version": "3.6.10"
  }
 },
 "nbformat": 4,
 "nbformat_minor": 4
}
